{
  "cells": [
    {
      "cell_type": "markdown",
      "metadata": {
        "id": "oqqXd9LtPKO9"
      },
      "source": [
        "K-Nearest Neighbours"
      ]
    },
    {
      "cell_type": "code",
      "execution_count": null,
      "metadata": {
        "id": "FCmqDnrjPKPB"
      },
      "outputs": [],
      "source": [
        "import numpy as np\n",
        "import pandas as pd\n",
        "import matplotlib.pyplot as plt\n",
        "from sklearn.metrics import confusion_matrix\n",
        "from sklearn.neighbors import KNeighborsClassifier\n",
        "from sklearn.model_selection import train_test_split"
      ]
    },
    {
      "cell_type": "code",
      "execution_count": null,
      "metadata": {
        "id": "0y1Y2fY0PKPD"
      },
      "outputs": [],
      "source": [
        "data=pd.read_csv('/content/train_data.csv')"
      ]
    },
    {
      "cell_type": "code",
      "execution_count": null,
      "metadata": {
        "colab": {
          "base_uri": "https://localhost:8080/"
        },
        "id": "kTh2P2OpPKPD",
        "outputId": "84ab69f3-6a7c-4513-d6cd-a67efbc2d36f"
      },
      "outputs": [
        {
          "output_type": "execute_result",
          "data": {
            "text/plain": [
              "(7000, 10)"
            ]
          },
          "metadata": {},
          "execution_count": 11
        }
      ],
      "source": [
        "data.shape"
      ]
    },
    {
      "cell_type": "code",
      "execution_count": null,
      "metadata": {
        "id": "i1kAtXwMPKPF"
      },
      "outputs": [],
      "source": [
        "look_up_loan_id=dict(zip(data.loan_id.unique(), data.proof_submitted.unique()))"
      ]
    },
    {
      "cell_type": "code",
      "execution_count": null,
      "metadata": {
        "colab": {
          "base_uri": "https://localhost:8080/"
        },
        "id": "f9JmOGhqPKPF",
        "outputId": "4f2ecdd6-3234-4909-e00a-7d56945a7e34"
      },
      "outputs": [
        {
          "output_type": "execute_result",
          "data": {
            "text/plain": [
              "{1: 'Aadhar', 2: 'VoterID', 3: 'Driving', 4: 'PAN', 5: 'Passport'}"
            ]
          },
          "metadata": {},
          "execution_count": 13
        }
      ],
      "source": [
        "look_up_loan_id"
      ]
    },
    {
      "cell_type": "code",
      "execution_count": null,
      "metadata": {
        "id": "V1A9Jr8IPKPG"
      },
      "outputs": [],
      "source": [
        "x=data[['no_of_loans', 'no_of_curr_loans','last_delinq_none']]\n",
        "y=data['education']"
      ]
    },
    {
      "cell_type": "code",
      "execution_count": null,
      "metadata": {
        "colab": {
          "base_uri": "https://localhost:8080/"
        },
        "id": "5wWmn17_PKPH",
        "outputId": "5bc57b8d-02df-4a32-9132-abe6e81f359a"
      },
      "outputs": [
        {
          "output_type": "stream",
          "name": "stdout",
          "text": [
            "(7000, 3)\n",
            "(7000,)\n"
          ]
        }
      ],
      "source": [
        "print(x.shape)\n",
        "print(y.shape)"
      ]
    },
    {
      "cell_type": "code",
      "execution_count": null,
      "metadata": {
        "id": "W1C50m9nPKPI"
      },
      "outputs": [],
      "source": [
        "X_train, X_test, y_train, y_test=train_test_split(x, y, random_state=0)"
      ]
    },
    {
      "cell_type": "code",
      "execution_count": null,
      "metadata": {
        "id": "6nROCIuDPKPJ"
      },
      "outputs": [],
      "source": [
        "y_train.fillna(0, inplace = True)\n",
        "y_test.fillna(0, inplace = True)\n"
      ]
    },
    {
      "cell_type": "code",
      "execution_count": null,
      "metadata": {
        "colab": {
          "base_uri": "https://localhost:8080/"
        },
        "id": "CxhYf1RjPKPJ",
        "outputId": "d8e5aa54-03ab-413b-c75e-45e4ebdd9a22"
      },
      "outputs": [
        {
          "output_type": "execute_result",
          "data": {
            "text/plain": [
              "(5250, 3)"
            ]
          },
          "metadata": {},
          "execution_count": 18
        }
      ],
      "source": [
        "X_train.shape"
      ]
    },
    {
      "cell_type": "code",
      "execution_count": null,
      "metadata": {
        "colab": {
          "base_uri": "https://localhost:8080/"
        },
        "id": "MU-JMSp9PKPK",
        "outputId": "0ddc5fe9-aa86-47df-a579-f99ae6c85e3c"
      },
      "outputs": [
        {
          "output_type": "execute_result",
          "data": {
            "text/plain": [
              "(5250,)"
            ]
          },
          "metadata": {},
          "execution_count": 19
        }
      ],
      "source": [
        "y_train.shape"
      ]
    },
    {
      "cell_type": "code",
      "execution_count": null,
      "metadata": {
        "id": "8rqm3HqrPKPK"
      },
      "outputs": [],
      "source": [
        "knn=KNeighborsClassifier(n_neighbors=5)"
      ]
    },
    {
      "cell_type": "code",
      "execution_count": null,
      "metadata": {
        "colab": {
          "base_uri": "https://localhost:8080/"
        },
        "id": "G01srWGMPKPL",
        "outputId": "e88e1b9a-1b21-41ff-d091-506ac746ffe7"
      },
      "outputs": [
        {
          "output_type": "execute_result",
          "data": {
            "text/plain": [
              "KNeighborsClassifier()"
            ]
          },
          "metadata": {},
          "execution_count": 21
        }
      ],
      "source": [
        "knn.fit(X_train, y_train)"
      ]
    },
    {
      "cell_type": "code",
      "execution_count": null,
      "metadata": {
        "colab": {
          "base_uri": "https://localhost:8080/"
        },
        "id": "Z9TzpIBePKPL",
        "outputId": "ad891860-25e3-4d66-d446-b57eddedb1d8"
      },
      "outputs": [
        {
          "output_type": "stream",
          "name": "stdout",
          "text": [
            "[[2. 2.]\n",
            " [2. 1.]\n",
            " [1. 1.]\n",
            " ...\n",
            " [2. 1.]\n",
            " [1. 2.]\n",
            " [2. 1.]]\n"
          ]
        }
      ],
      "source": [
        "y_predict=knn.predict(X_test)\n",
        "y_correct=np.array(y_test)\n",
        "print(np.concatenate((y_predict.reshape(len(y_predict), 1), y_correct.reshape(len(y_correct),1)),axis=1))"
      ]
    },
    {
      "cell_type": "code",
      "execution_count": null,
      "metadata": {
        "colab": {
          "base_uri": "https://localhost:8080/"
        },
        "id": "hGhzeaexPKPM",
        "outputId": "d7221290-1f18-4f0f-f48b-267add341ea9"
      },
      "outputs": [
        {
          "output_type": "execute_result",
          "data": {
            "text/plain": [
              "0.52"
            ]
          },
          "metadata": {},
          "execution_count": 23
        }
      ],
      "source": [
        "#Calculation the Score\n",
        "knn.score(X_test, y_test)"
      ]
    },
    {
      "cell_type": "code",
      "execution_count": null,
      "metadata": {
        "colab": {
          "base_uri": "https://localhost:8080/"
        },
        "id": "nXLWBO3fPKPM",
        "outputId": "3e4da682-0920-4094-ce46-dcd4098e996d"
      },
      "outputs": [
        {
          "output_type": "execute_result",
          "data": {
            "text/plain": [
              "0.5276190476190477"
            ]
          },
          "metadata": {},
          "execution_count": 24
        }
      ],
      "source": [
        "knn.score(X_train, y_train)"
      ]
    },
    {
      "cell_type": "code",
      "execution_count": null,
      "metadata": {
        "colab": {
          "base_uri": "https://localhost:8080/"
        },
        "id": "HgZUYYQnPKPN",
        "outputId": "b450fce8-8eb2-45bf-e63f-4215b1a13a10"
      },
      "outputs": [
        {
          "output_type": "stream",
          "name": "stdout",
          "text": [
            "[[  0  12  54]\n",
            " [  0 179 516]\n",
            " [  0 258 731]]\n"
          ]
        }
      ],
      "source": [
        "#Confusion Matrix\n",
        "conf_mat=confusion_matrix(y_test, y_predict)\n",
        "print(conf_mat)"
      ]
    },
    {
      "cell_type": "code",
      "execution_count": null,
      "metadata": {
        "colab": {
          "base_uri": "https://localhost:8080/"
        },
        "id": "78F9z2EjPKPO",
        "outputId": "92483b94-e790-4734-b05e-7fd9f6192946"
      },
      "outputs": [
        {
          "output_type": "execute_result",
          "data": {
            "text/plain": [
              "0.4142857142857143"
            ]
          },
          "metadata": {},
          "execution_count": 26
        }
      ],
      "source": [
        "knn = KNeighborsClassifier(n_neighbors = 1)\n",
        "knn.fit(X_train, y_train)\n",
        "knn.score(X_test, y_test)"
      ]
    },
    {
      "cell_type": "code",
      "execution_count": null,
      "metadata": {
        "colab": {
          "base_uri": "https://localhost:8080/",
          "height": 280
        },
        "id": "Ji7yXoeMPKPO",
        "outputId": "6e8504f3-29bc-4b29-8c18-db1164958858"
      },
      "outputs": [
        {
          "output_type": "display_data",
          "data": {
            "text/plain": [
              "<Figure size 432x288 with 1 Axes>"
            ],
            "image/png": "[encoded data removed]"
          },
          "metadata": {
            "needs_background": "light"
          }
        }
      ],
      "source": [
        "k_range = range(1,20)\n",
        "scores = []\n",
        "for k in k_range:\n",
        " knn = KNeighborsClassifier(n_neighbors = k)\n",
        " knn.fit(X_train, y_train)\n",
        " scores.append(knn.score(X_test, y_test))\n",
        "plt.figure()\n",
        "plt.xlabel('k_value')\n",
        "plt.ylabel('Accuracy')\n",
        "plt.scatter(k_range, scores)\n",
        "plt.xticks(range(0,21));\n"
      ]
    }
  ],
  "metadata": {
    "kernelspec": {
      "display_name": "Python 3.9.6 64-bit",
      "language": "python",
      "name": "python3"
    },
    "language_info": {
      "codemirror_mode": {
        "name": "ipython",
        "version": 3
      },
      "file_extension": ".py",
      "mimetype": "text/x-python",
      "name": "python",
      "nbconvert_exporter": "python",
      "pygments_lexer": "ipython3",
      "version": "3.9.6"
    },
    "orig_nbformat": 4,
    "vscode": {
      "interpreter": {
        "hash": "bf978164c80a8808c0c0155401a2298ba29f9284c6e6ad6aa52b12763f1f4419"
      }
    },
    "colab": {
      "provenance": []
    }
  },
  "nbformat": 4,
  "nbformat_minor": 0
}